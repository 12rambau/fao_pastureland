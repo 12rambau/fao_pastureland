{
 "cells": [
  {
   "cell_type": "markdown",
   "metadata": {},
   "source": [
    "# Pasturland analysis"
   ]
  },
  {
   "cell_type": "code",
   "execution_count": null,
   "metadata": {},
   "outputs": [],
   "source": [
    "import os \n",
    "del os.environ['GDAL_DATA']"
   ]
  },
  {
   "cell_type": "code",
   "execution_count": null,
   "metadata": {},
   "outputs": [],
   "source": [
    "import itertools\n",
    "\n",
    "import rasterio\n",
    "from rasterio.mask import mask\n",
    "from rasterio.warp import reproject, calculate_default_transform as cdt, Resampling\n",
    "from rasterstats import zonal_stats\n",
    "from geocube.api.core import make_geocube\n",
    "from shapely.geometry import shape, box\n",
    "from matplotlib.colors import ListedColormap\n",
    "from matplotlib import cm\n",
    "import ee\n",
    "import geemap\n",
    "import numpy as np\n",
    "import pandas as pd\n",
    "import geopandas as gpd\n",
    "\n",
    "from sepal_ui import mapping as sm\n",
    "\n",
    "from scripts import parameters as pm\n",
    "from scripts.utils import update_progress"
   ]
  },
  {
   "cell_type": "code",
   "execution_count": null,
   "metadata": {},
   "outputs": [],
   "source": [
    "ee.Initialize()\n",
    "\n",
    "Map = sm.SepalMap(['CartoDB.Positron'])\n",
    "Map"
   ]
  },
  {
   "cell_type": "markdown",
   "metadata": {},
   "source": [
    "## LMICs\n",
    "\n",
    "### get the countries borders as ee.FeatureCollection\n",
    "\n",
    "Get the LMICs countries from the GAUL list and display them on the interactive map"
   ]
  },
  {
   "cell_type": "code",
   "execution_count": null,
   "metadata": {},
   "outputs": [],
   "source": [
    "countries = pm.country_list\n",
    "countries.head()"
   ]
  },
  {
   "cell_type": "code",
   "execution_count": null,
   "metadata": {},
   "outputs": [],
   "source": [
    "gaul_numbers = countries['GAUL'].tolist()\n",
    "ee_countries = ee.FeatureCollection(\"FAO/GAUL/2015/level0\").filter(ee.Filter.inList('ADM0_CODE', gaul_numbers))\n",
    "Map.addLayer(ee_countries, {}, 'LMIC')"
   ]
  },
  {
   "cell_type": "markdown",
   "metadata": {},
   "source": [
    "### transform to shapely\n",
    "\n",
    "The ee collection need to be transformed into a list of shapely shape to be used as a croping border\n",
    "need to use a list of polygon because a single polygon exceed the maximum number of vertice"
   ]
  },
  {
   "cell_type": "code",
   "execution_count": null,
   "metadata": {},
   "outputs": [],
   "source": [
    "shapes = []\n",
    "for index, row in countries.iterrows():\n",
    "    update_progress(index / (len(countries)-1), 'Countries loaded')\n",
    "    country = ee.FeatureCollection(\"FAO/GAUL/2015/level0\").filter(ee.Filter.eq('ADM0_CODE', row.GAUL))\n",
    "    country_json = geemap.ee_to_geojson(country)\n",
    "    shapes.append(shape(country_json['features'][0]['geometry']))"
   ]
  },
  {
   "cell_type": "markdown",
   "metadata": {},
   "source": [
    "## Pasturland map \n",
    "\n",
    "Using the map provided by Yelena we will crop the raster on the LMICs map\n",
    "\n",
    "### cut the map of pastureland on the countries"
   ]
  },
  {
   "cell_type": "code",
   "execution_count": null,
   "metadata": {},
   "outputs": [],
   "source": [
    "with rasterio.open(pm.pastureLand_raster) as src:\n",
    "    out_image, out_transform = mask(src, shapes, all_touched=True)\n",
    "    out_meta = src.meta.copy()\n",
    "    out_meta.update(\n",
    "        driver = 'GTiff',\n",
    "        height = out_image.shape[1],\n",
    "        width = out_image.shape[2],\n",
    "        transform = out_transform\n",
    "    )\n",
    "    with rasterio.open(pm.pasture_masked, \"w\", **out_meta) as dest:\n",
    "        dest.write(out_image)"
   ]
  },
  {
   "cell_type": "code",
   "execution_count": null,
   "metadata": {},
   "outputs": [],
   "source": [
    "Map.add_raster(pm.pasture_masked, layer_name='pasture')"
   ]
  },
  {
   "cell_type": "markdown",
   "metadata": {},
   "source": [
    "## convert the TNC ecoregions into WWF biomes and rasterize it \n",
    "\n",
    "TNC terrestrial ecoregion that can be found [here](https://geospatial.tnc.org/datasets/7b7fb9d945544d41b3e7a91494c42930_0?showData=true)\n",
    "\n",
    "### get the biomes in the WWF shapefile"
   ]
  },
  {
   "cell_type": "code",
   "execution_count": null,
   "metadata": {},
   "outputs": [],
   "source": [
    "tnc_glob = gpd.read_file(pm.tnc_ecozone_shp) \n",
    "tnc_glob.head()"
   ]
  },
  {
   "cell_type": "code",
   "execution_count": null,
   "metadata": {},
   "outputs": [],
   "source": [
    "%%time\n",
    "\n",
    "convert_to_rast = tnc_glob[['BIOME', 'geometry']] \n",
    "convert_to_rast = convert_to_rast.dissolve(by='BIOME')\n",
    "convert_to_rast = convert_to_rast.reset_index()\n",
    "convert_to_rast.head()"
   ]
  },
  {
   "cell_type": "code",
   "execution_count": null,
   "metadata": {},
   "outputs": [],
   "source": [
    "%%time\n",
    "\n",
    "convert_to_rast['BIOME'] = convert_to_rast['BIOME'].astype(int)\n",
    "\n",
    "with rasterio.open(pm.pastureLand_raster) as src:\n",
    "    gt = src.transform\n",
    "\n",
    "    resX = gt[0]\n",
    "    resY = -gt[4]\n",
    "    \n",
    "    cube = make_geocube(\n",
    "        convert_to_rast,\n",
    "        measurements=[\"BIOME\"],\n",
    "        resolution=(resX, resY),\n",
    "    )"
   ]
  },
  {
   "cell_type": "code",
   "execution_count": null,
   "metadata": {},
   "outputs": [],
   "source": [
    "cube['BIOME'].rio.to_raster(pm.wwf_biomes)"
   ]
  },
  {
   "cell_type": "code",
   "execution_count": null,
   "metadata": {},
   "outputs": [],
   "source": [
    "%%time \n",
    "\n",
    "with rasterio.open(pm.wwf_biomes) as src:\n",
    "    out_image, out_transform = mask(src, shapes, all_touched=True)\n",
    "    out_meta = src.meta.copy()\n",
    "\n",
    "    out_meta.update(\n",
    "        driver = 'GTiff',\n",
    "        height = out_image.shape[1],\n",
    "        width = out_image.shape[2],\n",
    "        transform = out_transform\n",
    "    )\n",
    "\n",
    "    with rasterio.open(pm.biomes_masked, \"w\", **out_meta) as dst:\n",
    "        dst.write(out_image)"
   ]
  },
  {
   "cell_type": "code",
   "execution_count": null,
   "metadata": {},
   "outputs": [],
   "source": [
    "#gcreate a colormp for the display in interactive map\n",
    "vals = convert_to_rast['BIOME'].unique()\n",
    "tab20 = cm.get_cmap('tab20', len(vals))\n",
    "tab20 = tab20(np.linspace(0, 1, len(vals)))\n",
    "\n",
    "color_map = ListedColormap(tab20, N=int(vals.max())+1)"
   ]
  },
  {
   "cell_type": "code",
   "execution_count": null,
   "metadata": {},
   "outputs": [],
   "source": [
    "Map.add_raster(pm.biomes_masked, layer_name='ecozones', colormap=color_map)"
   ]
  },
  {
   "cell_type": "markdown",
   "metadata": {},
   "source": [
    "## deal with the 2000 LLC zones\n",
    "from the 2000 map of LLC\n",
    "Determine the fraction of the cell’s area in the land cover classes in ESA’s CCI-LC maps (100, 110, 120, 130, and 150)\n",
    "each zone will be treated separately to avoid bugs"
   ]
  },
  {
   "cell_type": "markdown",
   "metadata": {},
   "source": [
    "### functions "
   ]
  },
  {
   "cell_type": "code",
   "execution_count": null,
   "metadata": {},
   "outputs": [],
   "source": [
    "#transform the raster into a gpd cell grid \n",
    "def get_grid(src_rst, max_polygon=0):\n",
    "\n",
    "    with rasterio.open(src_rst) as src:\n",
    "        data = src.read(1)\n",
    "\n",
    "        t = src.transform\n",
    "\n",
    "        move_x = t[0]\n",
    "        # t[4] is negative, as raster start upper left 0,0 and goes down\n",
    "        # later for steps calculation (ymin=...) we use plus instead of minus\n",
    "        move_y = t[4]\n",
    "\n",
    "        height = src.height\n",
    "        width = src.width \n",
    "\n",
    "        polygons = []\n",
    "        indices = list(itertools.product(range(height), range(width)))\n",
    "        index = 0\n",
    "        data_flat = data.flatten()\n",
    "        for y,x in indices:\n",
    "            if data_flat[index] != np.iinfo(np.int16).min:\n",
    "                x_min, y_max = t * (x,y)\n",
    "                x_max = x_min + move_x\n",
    "                y_min = y_max + move_y\n",
    "                polygons.append(box(x_min, y_min, x_max, y_max))\n",
    "            \n",
    "            index += 1\n",
    "            \n",
    "            if (max_polygon != 0) & (len(polygons) > max_polygon):\n",
    "                break\n",
    "\n",
    "    return gpd.GeoDataFrame(crs='EPSG:4236', geometry=polygons)"
   ]
  },
  {
   "cell_type": "code",
   "execution_count": null,
   "metadata": {},
   "outputs": [],
   "source": [
    "def gdf_zonal_stats(init_gdf, rst):\n",
    "    \n",
    "    gdf = init_gdf.copy()\n",
    "    gdf = gdf.join(\n",
    "        pd.DataFrame(\n",
    "            zonal_stats(\n",
    "                vectors=gdf['geometry'], \n",
    "                raster=rst, \n",
    "                all_touched=True, \n",
    "                categorical=True\n",
    "            )\n",
    "        ),\n",
    "        how='left'\n",
    "    )\n",
    "    \n",
    "    return gdf"
   ]
  },
  {
   "cell_type": "code",
   "execution_count": null,
   "metadata": {},
   "outputs": [],
   "source": [
    "def fraction_raster(init_gdf, value, template_rst, out_rst):\n",
    "    \n",
    "    gdf = init_gdf.copy()\n",
    "    gdf['{}%'.format(value)] = gdf[value]/gdf.sum(axis=1)*100\n",
    "    \n",
    "    with rasterio.open(template_rst) as src:\n",
    "        gt = src.transform\n",
    "        resX = gt[0]\n",
    "        resY = -gt[4]\n",
    "        \n",
    "    cube = make_geocube(\n",
    "        gdf,\n",
    "        measurements=['{}%'.format(value)],\n",
    "        resolution=(resX, resY),\n",
    "    )\n",
    "    \n",
    "    cube['{}%'.format(value)].rio.to_raster(out_rst)"
   ]
  },
  {
   "cell_type": "code",
   "execution_count": null,
   "metadata": {},
   "outputs": [],
   "source": [
    "def align_raster(src_rst, template_rst, out_rst):\n",
    "    \n",
    "    # get template crs and transform \n",
    "    with rasterio.open(template_rst) as tplt, rasterio.open(src_rst) as src:      \n",
    "        \n",
    "        kwargs = src.meta.copy()\n",
    "        kwargs.update(\n",
    "            driver = 'GTiff',\n",
    "            height = tplt.height,\n",
    "            width = tplt.width,\n",
    "            transform = tplt.transform\n",
    "        )\n",
    "        \n",
    "        #destination\n",
    "        with rasterio.open(out_rst, 'w', **kwargs) as dst:\n",
    "            for i in range(1, dst.count+1):\n",
    "                reproject(\n",
    "                    source=rasterio.band(src, i),\n",
    "                    destination=rasterio.band(dst, i),\n",
    "                    src_transform=src.transform,\n",
    "                    src_crs=src.crs,\n",
    "                    dst_transform=tplt.transform,\n",
    "                    dst_crs=tplt.crs,\n",
    "                    resampling=Resampling.bilinear\n",
    "                ) "
   ]
  },
  {
   "cell_type": "markdown",
   "metadata": {},
   "source": [
    "### get the grid \n",
    "\n",
    "This grid will be used as a base for each ecozone value \n",
    "sheck the gdf_zonal header to verify that your ecozone is in the polygons regions (not always the case when using max_polygon)"
   ]
  },
  {
   "cell_type": "code",
   "execution_count": null,
   "metadata": {},
   "outputs": [],
   "source": [
    "# value of max polygone\n",
    "# comment to create the full map\n",
    "# the 200 first values are placed in the north of kazakstan\n",
    "max_polygon = 200"
   ]
  },
  {
   "cell_type": "code",
   "execution_count": null,
   "metadata": {},
   "outputs": [],
   "source": [
    "%%time \n",
    "gdf_grid = get_grid(pm.pasture_masked, max_polygon=max_polygon)"
   ]
  },
  {
   "cell_type": "code",
   "execution_count": null,
   "metadata": {},
   "outputs": [],
   "source": [
    "print('{} cells in gdf_grid'.format(len(gdf_grid)))"
   ]
  },
  {
   "cell_type": "code",
   "execution_count": null,
   "metadata": {},
   "outputs": [],
   "source": [
    "%%time\n",
    "gdf_zonal = gdf_zonal_stats(gdf_grid, pm.llc_2000_raster)\n",
    "gdf_zonal.head()"
   ]
  },
  {
   "cell_type": "markdown",
   "metadata": {},
   "source": [
    "### create the ecozones "
   ]
  },
  {
   "cell_type": "code",
   "execution_count": null,
   "metadata": {},
   "outputs": [],
   "source": [
    "ecozones = [100, 110, 120, 130, 150]\n",
    "\n",
    "for index, zone in enumerate(ecozones):\n",
    "    \n",
    "    update_progress(index / (len(ecozones)-1), 'ecozones loaded')\n",
    "    \n",
    "    if zone in gdf_zonal.columns:\n",
    "        fraction_raster(gdf_zonal, zone, pm.pasture_masked, pm.llc_2000_map.format(zone))\n",
    "        align_raster(pm.llc_2000_map.format(zone), pm.pasture_masked.format(zone), pm.llc_2000_map_masked.format(zone))\n",
    "        Map.add_raster(pm.llc_2000_map_masked.format(zone), layer_name=pm.ecozones[zone])"
   ]
  },
  {
   "cell_type": "code",
   "execution_count": null,
   "metadata": {},
   "outputs": [],
   "source": [
    "len(gdf_grid)"
   ]
  },
  {
   "cell_type": "code",
   "execution_count": null,
   "metadata": {},
   "outputs": [],
   "source": []
  }
 ],
 "metadata": {
  "kernelspec": {
   "display_name": "Python 3",
   "language": "python",
   "name": "python3"
  },
  "language_info": {
   "codemirror_mode": {
    "name": "ipython",
    "version": 3
   },
   "file_extension": ".py",
   "mimetype": "text/x-python",
   "name": "python",
   "nbconvert_exporter": "python",
   "pygments_lexer": "ipython3",
   "version": "3.6.9"
  }
 },
 "nbformat": 4,
 "nbformat_minor": 4
}
