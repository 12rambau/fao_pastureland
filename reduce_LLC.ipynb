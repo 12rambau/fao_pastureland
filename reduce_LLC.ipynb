{
 "cells": [
  {
   "cell_type": "code",
   "execution_count": null,
   "metadata": {},
   "outputs": [],
   "source": [
    "import os \n",
    "del os.environ['GDAL_DATA']"
   ]
  },
  {
   "cell_type": "code",
   "execution_count": null,
   "metadata": {},
   "outputs": [],
   "source": [
    "import ee\n",
    "import geemap\n",
    "import numpy as np\n",
    "import rasterio\n",
    "from rasterio.mask import mask\n",
    "from shapely.geometry import shape, box\n",
    "import geopandas as gpd\n",
    "from scripts import parameters as pm\n",
    "from scripts.utils import update_progress"
   ]
  },
  {
   "cell_type": "code",
   "execution_count": null,
   "metadata": {},
   "outputs": [],
   "source": [
    "ee.Initialize()"
   ]
  },
  {
   "cell_type": "code",
   "execution_count": null,
   "metadata": {},
   "outputs": [],
   "source": [
    "countries = pm.country_list\n",
    "countries.head()"
   ]
  },
  {
   "cell_type": "code",
   "execution_count": null,
   "metadata": {},
   "outputs": [],
   "source": [
    "shapes = []\n",
    "for index, row in countries.iterrows():\n",
    "    update_progress(index / (len(countries)-1), 'Countries loaded')\n",
    "    country = ee.FeatureCollection(\"FAO/GAUL/2015/level0\").filter(ee.Filter.eq('ADM0_CODE', row.GAUL))\n",
    "    country_json = geemap.ee_to_geojson(country)\n",
    "    shapes.append(shape(country_json['features'][0]['geometry']))"
   ]
  },
  {
   "cell_type": "code",
   "execution_count": null,
   "metadata": {},
   "outputs": [],
   "source": [
    "with rasterio.open(pm.llc_2000_raster) as src:\n",
    "    out_image, out_transform = mask(src, shapes, all_touched=True)\n",
    "    out_meta = src.meta.copy()\n",
    "    out_meta.update(\n",
    "        driver = 'GTiff',\n",
    "        height = out_image.shape[1],\n",
    "        width = out_image.shape[2],\n",
    "        transform = out_transform,\n",
    "        compress='lzw'\n",
    "    )\n",
    "    output = pm.get_result_dir() + \"ESACCI-LC-L4-LCCS-Map-300m-P1Y-2000-v2.0.7_masked.tif\"\n",
    "    with rasterio.open(output, \"w\", **out_meta) as dest:\n",
    "        dest.write(out_image)"
   ]
  },
  {
   "cell_type": "code",
   "execution_count": null,
   "metadata": {},
   "outputs": [],
   "source": [
    "with rasterio.open(pm.llc_2015_raster) as src:\n",
    "    out_image, out_transform = mask(src, shapes, all_touched=True)\n",
    "    out_meta = src.meta.copy()\n",
    "    out_meta.update(\n",
    "        driver = 'GTiff',\n",
    "        height = out_image.shape[1],\n",
    "        width = out_image.shape[2],\n",
    "        transform = out_transform,\n",
    "        compress='lzw'\n",
    "    )\n",
    "    output = pm.get_result_dir() + \"ESACCI-LC-L4-LCCS-Map-300m-P1Y-2015-v2.0.7_masked.tif\"\n",
    "    with rasterio.open(output, \"w\", **out_meta) as dest:\n",
    "        dest.write(out_image)"
   ]
  },
  {
   "cell_type": "code",
   "execution_count": null,
   "metadata": {},
   "outputs": [],
   "source": []
  }
 ],
 "metadata": {
  "kernelspec": {
   "display_name": "Python 3",
   "language": "python",
   "name": "python3"
  },
  "language_info": {
   "codemirror_mode": {
    "name": "ipython",
    "version": 3
   },
   "file_extension": ".py",
   "mimetype": "text/x-python",
   "name": "python",
   "nbconvert_exporter": "python",
   "pygments_lexer": "ipython3",
   "version": "3.6.9"
  }
 },
 "nbformat": 4,
 "nbformat_minor": 4
}
