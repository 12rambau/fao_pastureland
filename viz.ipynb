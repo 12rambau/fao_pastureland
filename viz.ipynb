{
 "cells": [
  {
   "cell_type": "code",
   "execution_count": null,
   "metadata": {},
   "outputs": [],
   "source": [
    "from matplotlib.colors import ListedColormap\n",
    "from matplotlib import cm\n",
    "import ee\n",
    "import geemap\n",
    "\n",
    "from sepal_ui import mapping as sm\n",
    "\n",
    "from scripts import parameters as pm"
   ]
  },
  {
   "cell_type": "code",
   "execution_count": null,
   "metadata": {},
   "outputs": [],
   "source": [
    "ee.Initialize()\n",
    "\n",
    "Map = sm.SepalMap(['CartoDB.Positron'])"
   ]
  },
  {
   "cell_type": "code",
   "execution_count": null,
   "metadata": {},
   "outputs": [],
   "source": [
    "Map"
   ]
  },
  {
   "cell_type": "code",
   "execution_count": null,
   "metadata": {},
   "outputs": [],
   "source": [
    "gaul_numbers = pm.country_list['GAUL'].tolist()\n",
    "ee_countries = ee.FeatureCollection(\"FAO/GAUL/2015/level0\").filter(ee.Filter.inList('ADM0_CODE', gaul_numbers))\n",
    "Map.addLayer(ee_countries, {}, 'LMIC')"
   ]
  },
  {
   "cell_type": "code",
   "execution_count": null,
   "metadata": {},
   "outputs": [],
   "source": [
    "Map.add_raster(pm.pasture_masked, layer_name='pasture', colormap=cm.get_cmap('YlGn'))"
   ]
  },
  {
   "cell_type": "code",
   "execution_count": null,
   "metadata": {},
   "outputs": [],
   "source": [
    "ecozones = [100, 110, 120, 130, 150]\n",
    "\n",
    "for zone in ecozones:\n",
    "    Map.add_raster(pm.llc_2000_map_masked.format(zone), layer_name=pm.ecozones[zone])"
   ]
  },
  {
   "cell_type": "code",
   "execution_count": null,
   "metadata": {},
   "outputs": [],
   "source": [
    "# uncomment once the 2015 are computed \n",
    "\n",
    "#ecozones = [100, 110, 120, 130, 150]\n",
    "#\n",
    "#for zone in ecozones:\n",
    "#    Map.add_raster(pm.llc_2015_map_masked.format(zone), layer_name=pm.ecozones[zone])"
   ]
  }
 ],
 "metadata": {
  "kernelspec": {
   "display_name": "Python 3",
   "language": "python",
   "name": "python3"
  },
  "language_info": {
   "codemirror_mode": {
    "name": "ipython",
    "version": 3
   },
   "file_extension": ".py",
   "mimetype": "text/x-python",
   "name": "python",
   "nbconvert_exporter": "python",
   "pygments_lexer": "ipython3",
   "version": "3.6.9"
  }
 },
 "nbformat": 4,
 "nbformat_minor": 4
}
